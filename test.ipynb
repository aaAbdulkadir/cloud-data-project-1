{
 "cells": [
  {
   "cell_type": "code",
   "execution_count": 21,
   "metadata": {},
   "outputs": [
    {
     "name": "stdout",
     "output_type": "stream",
     "text": [
      "Database version: ('PostgreSQL 16.3 on x86_64-pc-linux-gnu, compiled by gcc (GCC) 7.3.1 20180712 (Red Hat 7.3.1-12), 64-bit',)\n"
     ]
    }
   ],
   "source": [
    "import psycopg2\n",
    "import os\n",
    "\n",
    "# Define your connection parameters\n",
    "conn = psycopg2.connect(\n",
    "    host='data-pipeline-database.cb6kq4q2mitd.eu-west-2.rds.amazonaws.com',\n",
    "    port=5432,\n",
    "    user='abdul',\n",
    "    password=os.getenv(\"password\"),\n",
    "    database='data_pipeline_db'\n",
    ")\n",
    "\n",
    "# Create a cursor object\n",
    "cur = conn.cursor()\n",
    "\n",
    "# Execute a simple query\n",
    "cur.execute(\"SELECT version();\")\n",
    "\n",
    "# Fetch and print the result of the query\n",
    "db_version = cur.fetchone()\n",
    "print(f\"Database version: {db_version}\")\n",
    "\n",
    "# Close the cursor and the connection\n",
    "cur.close()\n",
    "conn.close()\n"
   ]
  },
  {
   "cell_type": "code",
   "execution_count": 22,
   "metadata": {},
   "outputs": [],
   "source": [
    "# Define your connection parameters\n",
    "conn = psycopg2.connect(\n",
    "    host='data-pipeline-database.cb6kq4q2mitd.eu-west-2.rds.amazonaws.com',\n",
    "    port=5432,\n",
    "    user='abdul',\n",
    "    password=os.getenv(\"password\"),\n",
    "    database='data_pipeline_db'\n",
    ")\n",
    "\n",
    "# Create a cursor object\n",
    "cur = conn.cursor()"
   ]
  },
  {
   "cell_type": "code",
   "execution_count": 23,
   "metadata": {},
   "outputs": [],
   "source": [
    "# Define the query to get all tables in the public schema\n",
    "query = \"\"\"\n",
    "SELECT table_name\n",
    "FROM information_schema.tables\n",
    "WHERE table_schema = 'public'\n",
    "ORDER BY table_name;\n",
    "\"\"\"\n",
    "\n",
    "# Execute the query\n",
    "cur.execute(query)\n",
    "\n",
    "# Fetch all results\n",
    "tables = cur.fetchall()"
   ]
  },
  {
   "cell_type": "code",
   "execution_count": 24,
   "metadata": {},
   "outputs": [
    {
     "data": {
      "text/plain": [
       "[('dummy_dag',)]"
      ]
     },
     "execution_count": 24,
     "metadata": {},
     "output_type": "execute_result"
    }
   ],
   "source": [
    "tables"
   ]
  },
  {
   "cell_type": "code",
   "execution_count": 25,
   "metadata": {},
   "outputs": [],
   "source": [
    "cur.execute(\"SELECT * FROM dummy_dag;\")"
   ]
  },
  {
   "cell_type": "code",
   "execution_count": 26,
   "metadata": {},
   "outputs": [
    {
     "data": {
      "text/plain": [
       "[(1,\n",
       "  'Testing',\n",
       "  1,\n",
       "  'animal',\n",
       "  datetime.datetime(2024, 8, 4, 15, 53, 14, 323350)),\n",
       " (2, 'Testing', 1, 'animal', datetime.datetime(2024, 8, 4, 16, 15, 1, 139814)),\n",
       " (3,\n",
       "  'Testing',\n",
       "  1,\n",
       "  'animal',\n",
       "  datetime.datetime(2024, 8, 4, 16, 19, 51, 809403)),\n",
       " (4,\n",
       "  'Testing',\n",
       "  1,\n",
       "  'animal',\n",
       "  datetime.datetime(2024, 8, 4, 16, 20, 34, 230813)),\n",
       " (5,\n",
       "  'Testing',\n",
       "  1,\n",
       "  'animal',\n",
       "  datetime.datetime(2024, 8, 4, 16, 42, 24, 297374)),\n",
       " (6,\n",
       "  'Testing',\n",
       "  1,\n",
       "  'animal',\n",
       "  datetime.datetime(2024, 8, 4, 16, 51, 50, 458153))]"
      ]
     },
     "execution_count": 26,
     "metadata": {},
     "output_type": "execute_result"
    }
   ],
   "source": [
    "cur.fetchall()"
   ]
  },
  {
   "cell_type": "code",
   "execution_count": 27,
   "metadata": {},
   "outputs": [
    {
     "name": "stderr",
     "output_type": "stream",
     "text": [
      "/tmp/ipykernel_176847/2286552843.py:2: UserWarning: pandas only supports SQLAlchemy connectable (engine/connection) or database string URI or sqlite3 DBAPI2 connection. Other DBAPI2 objects are not tested. Please consider using SQLAlchemy.\n",
      "  df = pd.read_sql_query('SELECT * FROM dummy_dag;', conn)\n"
     ]
    }
   ],
   "source": [
    "import pandas as pd\n",
    "df = pd.read_sql_query('SELECT * FROM dummy_dag;', conn)"
   ]
  },
  {
   "cell_type": "code",
   "execution_count": 28,
   "metadata": {},
   "outputs": [
    {
     "data": {
      "text/html": [
       "<div>\n",
       "<style scoped>\n",
       "    .dataframe tbody tr th:only-of-type {\n",
       "        vertical-align: middle;\n",
       "    }\n",
       "\n",
       "    .dataframe tbody tr th {\n",
       "        vertical-align: top;\n",
       "    }\n",
       "\n",
       "    .dataframe thead th {\n",
       "        text-align: right;\n",
       "    }\n",
       "</style>\n",
       "<table border=\"1\" class=\"dataframe\">\n",
       "  <thead>\n",
       "    <tr style=\"text-align: right;\">\n",
       "      <th></th>\n",
       "      <th>id</th>\n",
       "      <th>column1</th>\n",
       "      <th>column2</th>\n",
       "      <th>column3</th>\n",
       "      <th>scraping_execution_date</th>\n",
       "    </tr>\n",
       "  </thead>\n",
       "  <tbody>\n",
       "    <tr>\n",
       "      <th>0</th>\n",
       "      <td>1</td>\n",
       "      <td>Testing</td>\n",
       "      <td>1</td>\n",
       "      <td>animal</td>\n",
       "      <td>2024-08-04 15:53:14.323350</td>\n",
       "    </tr>\n",
       "    <tr>\n",
       "      <th>1</th>\n",
       "      <td>2</td>\n",
       "      <td>Testing</td>\n",
       "      <td>1</td>\n",
       "      <td>animal</td>\n",
       "      <td>2024-08-04 16:15:01.139814</td>\n",
       "    </tr>\n",
       "    <tr>\n",
       "      <th>2</th>\n",
       "      <td>3</td>\n",
       "      <td>Testing</td>\n",
       "      <td>1</td>\n",
       "      <td>animal</td>\n",
       "      <td>2024-08-04 16:19:51.809403</td>\n",
       "    </tr>\n",
       "    <tr>\n",
       "      <th>3</th>\n",
       "      <td>4</td>\n",
       "      <td>Testing</td>\n",
       "      <td>1</td>\n",
       "      <td>animal</td>\n",
       "      <td>2024-08-04 16:20:34.230813</td>\n",
       "    </tr>\n",
       "    <tr>\n",
       "      <th>4</th>\n",
       "      <td>5</td>\n",
       "      <td>Testing</td>\n",
       "      <td>1</td>\n",
       "      <td>animal</td>\n",
       "      <td>2024-08-04 16:42:24.297374</td>\n",
       "    </tr>\n",
       "    <tr>\n",
       "      <th>5</th>\n",
       "      <td>6</td>\n",
       "      <td>Testing</td>\n",
       "      <td>1</td>\n",
       "      <td>animal</td>\n",
       "      <td>2024-08-04 16:51:50.458153</td>\n",
       "    </tr>\n",
       "  </tbody>\n",
       "</table>\n",
       "</div>"
      ],
      "text/plain": [
       "   id  column1  column2 column3    scraping_execution_date\n",
       "0   1  Testing        1  animal 2024-08-04 15:53:14.323350\n",
       "1   2  Testing        1  animal 2024-08-04 16:15:01.139814\n",
       "2   3  Testing        1  animal 2024-08-04 16:19:51.809403\n",
       "3   4  Testing        1  animal 2024-08-04 16:20:34.230813\n",
       "4   5  Testing        1  animal 2024-08-04 16:42:24.297374\n",
       "5   6  Testing        1  animal 2024-08-04 16:51:50.458153"
      ]
     },
     "execution_count": 28,
     "metadata": {},
     "output_type": "execute_result"
    }
   ],
   "source": [
    "df"
   ]
  },
  {
   "cell_type": "code",
   "execution_count": 31,
   "metadata": {},
   "outputs": [
    {
     "ename": "UndefinedTable",
     "evalue": "relation \"dummy_dag\" does not exist\nLINE 2: select * from dummy_dag\n                      ^\n",
     "output_type": "error",
     "traceback": [
      "\u001b[0;31m---------------------------------------------------------------------------\u001b[0m",
      "\u001b[0;31mUndefinedTable\u001b[0m                            Traceback (most recent call last)",
      "Cell \u001b[0;32mIn[31], line 6\u001b[0m\n\u001b[1;32m      1\u001b[0m query \u001b[38;5;241m=\u001b[39m \u001b[38;5;124m\"\"\"\u001b[39m\n\u001b[1;32m      2\u001b[0m \u001b[38;5;124mselect * from dummy_dag\u001b[39m\n\u001b[1;32m      3\u001b[0m \u001b[38;5;124m\"\"\"\u001b[39m\n\u001b[1;32m      5\u001b[0m \u001b[38;5;66;03m# Execute the query\u001b[39;00m\n\u001b[0;32m----> 6\u001b[0m \u001b[43mcur\u001b[49m\u001b[38;5;241;43m.\u001b[39;49m\u001b[43mexecute\u001b[49m\u001b[43m(\u001b[49m\u001b[43mquery\u001b[49m\u001b[43m)\u001b[49m\n\u001b[1;32m      7\u001b[0m cur\u001b[38;5;241m.\u001b[39mfetchall()\n",
      "\u001b[0;31mUndefinedTable\u001b[0m: relation \"dummy_dag\" does not exist\nLINE 2: select * from dummy_dag\n                      ^\n"
     ]
    }
   ],
   "source": [
    "query = \"\"\"\n",
    "select * from dummy_dag\n",
    "\"\"\"\n",
    "\n",
    "# Execute the query\n",
    "cur.execute(query)\n",
    "cur.fetchall()"
   ]
  },
  {
   "cell_type": "code",
   "execution_count": 30,
   "metadata": {},
   "outputs": [
    {
     "ename": "ProgrammingError",
     "evalue": "no results to fetch",
     "output_type": "error",
     "traceback": [
      "\u001b[0;31m---------------------------------------------------------------------------\u001b[0m",
      "\u001b[0;31mProgrammingError\u001b[0m                          Traceback (most recent call last)",
      "Cell \u001b[0;32mIn[30], line 8\u001b[0m\n\u001b[1;32m      6\u001b[0m \u001b[38;5;66;03m# Execute the query\u001b[39;00m\n\u001b[1;32m      7\u001b[0m cur\u001b[38;5;241m.\u001b[39mexecute(query)\n\u001b[0;32m----> 8\u001b[0m \u001b[43mcur\u001b[49m\u001b[38;5;241;43m.\u001b[39;49m\u001b[43mfetchall\u001b[49m\u001b[43m(\u001b[49m\u001b[43m)\u001b[49m\n",
      "\u001b[0;31mProgrammingError\u001b[0m: no results to fetch"
     ]
    }
   ],
   "source": [
    "# Define the query to get all tables in the public schema\n",
    "query = \"\"\"\n",
    "drop table if exists dummy_dag\n",
    "\"\"\"\n",
    "\n",
    "# Execute the query\n",
    "cur.execute(query)\n"
   ]
  },
  {
   "cell_type": "code",
   "execution_count": 20,
   "metadata": {},
   "outputs": [],
   "source": [
    "# Close the cursor and the connection\n",
    "cur.close()\n",
    "conn.close()\n"
   ]
  },
  {
   "cell_type": "code",
   "execution_count": null,
   "metadata": {},
   "outputs": [],
   "source": []
  }
 ],
 "metadata": {
  "kernelspec": {
   "display_name": "venv",
   "language": "python",
   "name": "python3"
  },
  "language_info": {
   "codemirror_mode": {
    "name": "ipython",
    "version": 3
   },
   "file_extension": ".py",
   "mimetype": "text/x-python",
   "name": "python",
   "nbconvert_exporter": "python",
   "pygments_lexer": "ipython3",
   "version": "3.10.12"
  }
 },
 "nbformat": 4,
 "nbformat_minor": 2
}
